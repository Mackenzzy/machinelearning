{
  "nbformat": 4,
  "nbformat_minor": 0,
  "metadata": {
    "colab": {
      "provenance": [],
      "authorship_tag": "ABX9TyM6shbd7cu8fls5X3E90mvo",
      "include_colab_link": true
    },
    "kernelspec": {
      "name": "python3",
      "display_name": "Python 3"
    },
    "language_info": {
      "name": "python"
    }
  },
  "cells": [
    {
      "cell_type": "markdown",
      "metadata": {
        "id": "view-in-github",
        "colab_type": "text"
      },
      "source": [
        "<a href=\"https://colab.research.google.com/github/Mackenzzy/machinelearning/blob/main/estudoAprendizagemDeMaquina.ipynb\" target=\"_parent\"><img src=\"https://colab.research.google.com/assets/colab-badge.svg\" alt=\"Open In Colab\"/></a>"
      ]
    },
    {
      "cell_type": "code",
      "execution_count": 1,
      "metadata": {
        "colab": {
          "base_uri": "https://localhost:8080/"
        },
        "id": "yMP8af4BlKQZ",
        "outputId": "99756b5d-fef9-45a0-894c-af6e863c8d2d"
      },
      "outputs": [
        {
          "output_type": "stream",
          "name": "stdout",
          "text": [
            "Collecting pyspark==3.3.1\n",
            "  Downloading pyspark-3.3.1.tar.gz (281.4 MB)\n",
            "\u001b[2K     \u001b[90m━━━━━━━━━━━━━━━━━━━━━━━━━━━━━━━━━━━━━━━━\u001b[0m \u001b[32m281.4/281.4 MB\u001b[0m \u001b[31m4.4 MB/s\u001b[0m eta \u001b[36m0:00:00\u001b[0m\n",
            "\u001b[?25h  Preparing metadata (setup.py) ... \u001b[?25l\u001b[?25hdone\n",
            "Collecting py4j==0.10.9.5 (from pyspark==3.3.1)\n",
            "  Downloading py4j-0.10.9.5-py2.py3-none-any.whl.metadata (1.5 kB)\n",
            "Downloading py4j-0.10.9.5-py2.py3-none-any.whl (199 kB)\n",
            "\u001b[2K   \u001b[90m━━━━━━━━━━━━━━━━━━━━━━━━━━━━━━━━━━━━━━━━\u001b[0m \u001b[32m199.7/199.7 kB\u001b[0m \u001b[31m16.4 MB/s\u001b[0m eta \u001b[36m0:00:00\u001b[0m\n",
            "\u001b[?25hBuilding wheels for collected packages: pyspark\n",
            "  Building wheel for pyspark (setup.py) ... \u001b[?25l\u001b[?25hdone\n",
            "  Created wheel for pyspark: filename=pyspark-3.3.1-py2.py3-none-any.whl size=281845493 sha256=fad6d4d1daf174ffa744dc46877102655701ee58cdc7f5e936be8601d20eb4d3\n",
            "  Stored in directory: /root/.cache/pip/wheels/0f/f0/3d/517368b8ce80486e84f89f214e0a022554e4ee64969f46279b\n",
            "Successfully built pyspark\n",
            "Installing collected packages: py4j, pyspark\n",
            "  Attempting uninstall: py4j\n",
            "    Found existing installation: py4j 0.10.9.7\n",
            "    Uninstalling py4j-0.10.9.7:\n",
            "      Successfully uninstalled py4j-0.10.9.7\n",
            "  Attempting uninstall: pyspark\n",
            "    Found existing installation: pyspark 3.5.3\n",
            "    Uninstalling pyspark-3.5.3:\n",
            "      Successfully uninstalled pyspark-3.5.3\n",
            "Successfully installed py4j-0.10.9.5 pyspark-3.3.1\n"
          ]
        }
      ],
      "source": [
        "#instalação da lib e abrindo seção no spark\n",
        "!pip install pyspark==3.3.1\n",
        "from pyspark.sql import SparkSession\n",
        "\n",
        "sc = SparkSession \\\n",
        "    .builder \\\n",
        "    .master('local[*]') \\\n",
        "    .getOrCreate()"
      ]
    },
    {
      "cell_type": "code",
      "source": [
        "#download do db sobre o covid, fiz separado pois é um db gigante\n",
        "\n",
        "!gdown 1-lSo7A-SIuntho9tAqVO25enmLlxFe7S\n",
        "!gdown 1-iG4e4-SzJONLi3Nw98nm9UdFzoqCHDI"
      ],
      "metadata": {
        "colab": {
          "base_uri": "https://localhost:8080/"
        },
        "id": "V6bFXxFFlhtH",
        "outputId": "0242b56e-b28a-403b-88bf-f81ab44cfcbd"
      },
      "execution_count": 2,
      "outputs": [
        {
          "output_type": "stream",
          "name": "stdout",
          "text": [
            "Downloading...\n",
            "From: https://drive.google.com/uc?id=1-lSo7A-SIuntho9tAqVO25enmLlxFe7S\n",
            "To: /content/treinamento.csv\n",
            "100% 26.1M/26.1M [00:00<00:00, 47.8MB/s]\n",
            "Downloading...\n",
            "From: https://drive.google.com/uc?id=1-iG4e4-SzJONLi3Nw98nm9UdFzoqCHDI\n",
            "To: /content/teste.csv\n",
            "100% 37.4M/37.4M [00:00<00:00, 56.9MB/s]\n"
          ]
        }
      ]
    },
    {
      "cell_type": "code",
      "source": [
        "# criando os dados para servir de treino\n",
        "dfTreino = sc.read\\\n",
        "    .option('delimiter',',')\\\n",
        "    .option('header','true')\\\n",
        "    .option('inferschema','true')\\\n",
        "    .csv('file:////content/treinamento.csv')\n",
        "\n",
        "# criando os dados para ser usados no teste\n",
        "dfTeste = sc.read\\\n",
        "    .option('delimiter',',')\\\n",
        "    .option('header','true')\\\n",
        "    .option('inferschema','true')\\\n",
        "    .csv('file:////content/teste.csv')"
      ],
      "metadata": {
        "id": "c6n8jun_nUxu"
      },
      "execution_count": 5,
      "outputs": []
    },
    {
      "cell_type": "code",
      "source": [
        "#nome da coluna \\ tipo do dado\n",
        "\n",
        "dfTreino.printSchema()"
      ],
      "metadata": {
        "colab": {
          "base_uri": "https://localhost:8080/"
        },
        "id": "jQbQ6oTqnhDm",
        "outputId": "c21fdac6-14cc-4c26-e3bb-2722893fcb88"
      },
      "execution_count": 7,
      "outputs": [
        {
          "output_type": "stream",
          "name": "stdout",
          "text": [
            "root\n",
            " |-- hora: double (nullable = true)\n",
            " |-- minuto: double (nullable = true)\n",
            " |-- temp_minima: double (nullable = true)\n",
            " |-- temp_maxima: double (nullable = true)\n",
            " |-- latitude_media: double (nullable = true)\n",
            " |-- longitude_media: double (nullable = true)\n",
            " |-- Classe: string (nullable = true)\n",
            "\n"
          ]
        }
      ]
    },
    {
      "cell_type": "code",
      "source": [
        "#funcao para os id's\n",
        "from pyspark.sql.functions import monotonically_increasing_id\n",
        "#como a tabela não apresentou a coluna id(padrão no powerbi) eu adicionei\n",
        "#para vir no indice 1 ao invés do 0 precisa ser colocado o '+1' depois dos ()\n",
        "dfTeste = dfTeste.withColumn('id', monotonically_increasing_id() + 1)\n",
        "\n",
        "#mostra as N primeiras linhas\n",
        "dfTeste.show(8)"
      ],
      "metadata": {
        "colab": {
          "base_uri": "https://localhost:8080/"
        },
        "id": "6xnMTxaioHdm",
        "outputId": "79061586-ceb7-48e7-ccff-f83a53007e2b"
      },
      "execution_count": 15,
      "outputs": [
        {
          "output_type": "stream",
          "name": "stdout",
          "text": [
            "+---------+---------+-----------+-----------+--------------+---------------+--------+---+\n",
            "|     hora|   minuto|temp_minima|temp_maxima|latitude_media|longitude_media|  Classe| id|\n",
            "+---------+---------+-----------+-----------+--------------+---------------+--------+---+\n",
            "|11.787212|29.005116|      1.123|     28.606|      34.56035|      136.21983|Moderado|  1|\n",
            "|11.482636| 29.84576|      1.038|  29.306004|      34.56078|      136.22015|Moderado|  2|\n",
            "|11.312064|29.751745|      1.123|  29.006002|      34.55864|      136.22047|Moderado|  3|\n",
            "|11.530982|29.505793|      1.404|  29.081003|     34.560654|      136.22006|Moderado|  4|\n",
            "|  11.4008|29.422289|      1.504|  29.181004|     34.559814|      136.22006|Moderado|  5|\n",
            "| 11.50784| 29.18513|      1.423|  29.106003|     34.559834|      136.21964|Moderado|  6|\n",
            "|11.318713|29.743177|      1.323|  28.806002|     34.560326|       136.2207|Moderado|  7|\n",
            "|11.324524| 30.05444|      1.155|  29.006002|     34.560883|      136.21967|Moderado|  8|\n",
            "+---------+---------+-----------+-----------+--------------+---------------+--------+---+\n",
            "only showing top 8 rows\n",
            "\n"
          ]
        }
      ]
    },
    {
      "cell_type": "code",
      "source": [],
      "metadata": {
        "id": "W7LomJgHoVH-"
      },
      "execution_count": null,
      "outputs": []
    }
  ]
}