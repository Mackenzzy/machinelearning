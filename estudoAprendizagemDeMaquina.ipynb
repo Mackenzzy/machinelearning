{
  "nbformat": 4,
  "nbformat_minor": 0,
  "metadata": {
    "colab": {
      "provenance": [],
      "authorship_tag": "ABX9TyO7bX19Kl/0t3luU49IGVDW",
      "include_colab_link": true
    },
    "kernelspec": {
      "name": "python3",
      "display_name": "Python 3"
    },
    "language_info": {
      "name": "python"
    }
  },
  "cells": [
    {
      "cell_type": "markdown",
      "metadata": {
        "id": "view-in-github",
        "colab_type": "text"
      },
      "source": [
        "<a href=\"https://colab.research.google.com/github/Mackenzzy/machinelearning/blob/main/estudoAprendizagemDeMaquina.ipynb\" target=\"_parent\"><img src=\"https://colab.research.google.com/assets/colab-badge.svg\" alt=\"Open In Colab\"/></a>"
      ]
    },
    {
      "cell_type": "code",
      "execution_count": 1,
      "metadata": {
        "colab": {
          "base_uri": "https://localhost:8080/"
        },
        "id": "yMP8af4BlKQZ",
        "outputId": "e2273e6f-f175-4906-d6a6-588e08d367fa"
      },
      "outputs": [
        {
          "output_type": "stream",
          "name": "stdout",
          "text": [
            "Collecting pyspark==3.3.1\n",
            "  Downloading pyspark-3.3.1.tar.gz (281.4 MB)\n",
            "\u001b[2K     \u001b[90m━━━━━━━━━━━━━━━━━━━━━━━━━━━━━━━━━━━━━━━━\u001b[0m \u001b[32m281.4/281.4 MB\u001b[0m \u001b[31m3.8 MB/s\u001b[0m eta \u001b[36m0:00:00\u001b[0m\n",
            "\u001b[?25h  Preparing metadata (setup.py) ... \u001b[?25l\u001b[?25hdone\n",
            "Collecting py4j==0.10.9.5 (from pyspark==3.3.1)\n",
            "  Downloading py4j-0.10.9.5-py2.py3-none-any.whl.metadata (1.5 kB)\n",
            "Downloading py4j-0.10.9.5-py2.py3-none-any.whl (199 kB)\n",
            "\u001b[2K   \u001b[90m━━━━━━━━━━━━━━━━━━━━━━━━━━━━━━━━━━━━━━━━\u001b[0m \u001b[32m199.7/199.7 kB\u001b[0m \u001b[31m15.4 MB/s\u001b[0m eta \u001b[36m0:00:00\u001b[0m\n",
            "\u001b[?25hBuilding wheels for collected packages: pyspark\n",
            "  Building wheel for pyspark (setup.py) ... \u001b[?25l\u001b[?25hdone\n",
            "  Created wheel for pyspark: filename=pyspark-3.3.1-py2.py3-none-any.whl size=281845493 sha256=6461c54eca16ec4a71464ab15a2068d1eabac1f3190624c31bf50e6e535760cd\n",
            "  Stored in directory: /root/.cache/pip/wheels/0f/f0/3d/517368b8ce80486e84f89f214e0a022554e4ee64969f46279b\n",
            "Successfully built pyspark\n",
            "Installing collected packages: py4j, pyspark\n",
            "  Attempting uninstall: py4j\n",
            "    Found existing installation: py4j 0.10.9.7\n",
            "    Uninstalling py4j-0.10.9.7:\n",
            "      Successfully uninstalled py4j-0.10.9.7\n",
            "  Attempting uninstall: pyspark\n",
            "    Found existing installation: pyspark 3.5.3\n",
            "    Uninstalling pyspark-3.5.3:\n",
            "      Successfully uninstalled pyspark-3.5.3\n",
            "Successfully installed py4j-0.10.9.5 pyspark-3.3.1\n"
          ]
        }
      ],
      "source": [
        "#instalação da lib e abrindo seção no spark\n",
        "!pip install pyspark==3.3.1\n",
        "from pyspark.sql import SparkSession\n",
        "\n",
        "sc = SparkSession \\\n",
        "    .builder \\\n",
        "    .master('local[*]') \\\n",
        "    .getOrCreate()"
      ]
    },
    {
      "cell_type": "code",
      "source": [
        "#download do db sobre o covid, fiz separado pois é um db gigante\n",
        "\n",
        "!gdown 1-lSo7A-SIuntho9tAqVO25enmLlxFe7S\n",
        "!gdown 1-iG4e4-SzJONLi3Nw98nm9UdFzoqCHDI"
      ],
      "metadata": {
        "colab": {
          "base_uri": "https://localhost:8080/"
        },
        "id": "V6bFXxFFlhtH",
        "outputId": "87a7dcfb-6c6b-40a4-ecad-db286429b449"
      },
      "execution_count": 2,
      "outputs": [
        {
          "output_type": "stream",
          "name": "stdout",
          "text": [
            "Downloading...\n",
            "From: https://drive.google.com/uc?id=1-lSo7A-SIuntho9tAqVO25enmLlxFe7S\n",
            "To: /content/treinamento.csv\n",
            "100% 26.1M/26.1M [00:00<00:00, 56.3MB/s]\n",
            "Downloading...\n",
            "From: https://drive.google.com/uc?id=1-iG4e4-SzJONLi3Nw98nm9UdFzoqCHDI\n",
            "To: /content/teste.csv\n",
            "100% 37.4M/37.4M [00:00<00:00, 42.3MB/s]\n"
          ]
        }
      ]
    },
    {
      "cell_type": "code",
      "source": [
        "# criando os dados para servir de treino\n",
        "dfTreino = sc.read\\\n",
        "    .option('delimiter',',')\\\n",
        "    .option('header','true')\\\n",
        "    .option('inferschema','true')\\\n",
        "    .csv('file:////content/treinamento.csv')\n",
        "\n",
        "# criando os dados para ser usados no teste\n",
        "dfTeste = sc.read\\\n",
        "    .option('delimiter',',')\\\n",
        "    .option('header','true')\\\n",
        "    .option('inferschema','true')\\\n",
        "    .csv('file:////content/teste.csv')"
      ],
      "metadata": {
        "id": "c6n8jun_nUxu"
      },
      "execution_count": 3,
      "outputs": []
    },
    {
      "cell_type": "code",
      "source": [
        "#nome da coluna \\ tipo do dado\n",
        "\n",
        "dfTreino.printSchema()"
      ],
      "metadata": {
        "colab": {
          "base_uri": "https://localhost:8080/"
        },
        "id": "jQbQ6oTqnhDm",
        "outputId": "883dd682-1e68-46d5-e9c9-68b35cf983fa"
      },
      "execution_count": 4,
      "outputs": [
        {
          "output_type": "stream",
          "name": "stdout",
          "text": [
            "root\n",
            " |-- hora: double (nullable = true)\n",
            " |-- minuto: double (nullable = true)\n",
            " |-- temp_minima: double (nullable = true)\n",
            " |-- temp_maxima: double (nullable = true)\n",
            " |-- latitude_media: double (nullable = true)\n",
            " |-- longitude_media: double (nullable = true)\n",
            " |-- Classe: string (nullable = true)\n",
            "\n"
          ]
        }
      ]
    },
    {
      "cell_type": "code",
      "source": [
        "#lib para os id's\n",
        "from pyspark.sql.functions import monotonically_increasing_id\n",
        "#como a tabela não apresentou a coluna id(padrão no powerbi) eu adicionei\n",
        "#para vir no indice 1 ao invés do 0 precisa ser colocado o '+1' depois dos ()\n",
        "dfTeste = dfTeste.withColumn('id', monotonically_increasing_id() + 1)\n",
        "\n",
        "#mostra as N primeiras linhas\n",
        "dfTeste.show(8)"
      ],
      "metadata": {
        "colab": {
          "base_uri": "https://localhost:8080/"
        },
        "id": "6xnMTxaioHdm",
        "outputId": "06826890-94e3-4000-974e-23d809059d90"
      },
      "execution_count": 5,
      "outputs": [
        {
          "output_type": "stream",
          "name": "stdout",
          "text": [
            "+---------+---------+-----------+-----------+--------------+---------------+--------+---+\n",
            "|     hora|   minuto|temp_minima|temp_maxima|latitude_media|longitude_media|  Classe| id|\n",
            "+---------+---------+-----------+-----------+--------------+---------------+--------+---+\n",
            "|11.787212|29.005116|      1.123|     28.606|      34.56035|      136.21983|Moderado|  1|\n",
            "|11.482636| 29.84576|      1.038|  29.306004|      34.56078|      136.22015|Moderado|  2|\n",
            "|11.312064|29.751745|      1.123|  29.006002|      34.55864|      136.22047|Moderado|  3|\n",
            "|11.530982|29.505793|      1.404|  29.081003|     34.560654|      136.22006|Moderado|  4|\n",
            "|  11.4008|29.422289|      1.504|  29.181004|     34.559814|      136.22006|Moderado|  5|\n",
            "| 11.50784| 29.18513|      1.423|  29.106003|     34.559834|      136.21964|Moderado|  6|\n",
            "|11.318713|29.743177|      1.323|  28.806002|     34.560326|       136.2207|Moderado|  7|\n",
            "|11.324524| 30.05444|      1.155|  29.006002|     34.560883|      136.21967|Moderado|  8|\n",
            "+---------+---------+-----------+-----------+--------------+---------------+--------+---+\n",
            "only showing top 8 rows\n",
            "\n"
          ]
        }
      ]
    },
    {
      "cell_type": "code",
      "source": [
        "#mesma coisa acima porém para o df de treino\n",
        "dfTreino = dfTreino.withColumn('id', monotonically_increasing_id() + 1)\n",
        "\n",
        "#mostra as N primeiras linhas\n",
        "dfTreino.show(8)"
      ],
      "metadata": {
        "colab": {
          "base_uri": "https://localhost:8080/"
        },
        "id": "vAoj19FKw5W5",
        "outputId": "acbdd9b4-3de8-4352-d0a2-e80131c7cea7"
      },
      "execution_count": 6,
      "outputs": [
        {
          "output_type": "stream",
          "name": "stdout",
          "text": [
            "+---------+---------+-----------+-----------+--------------+---------------+--------+---+\n",
            "|     hora|   minuto|temp_minima|temp_maxima|latitude_media|longitude_media|  Classe| id|\n",
            "+---------+---------+-----------+-----------+--------------+---------------+--------+---+\n",
            "|11.312758|30.169239|     -1.859|     27.495|     36.169994|      139.23022|Moderado|  1|\n",
            "|11.292323|29.638779|   8.542997|  36.177994|     31.349113|       73.50964|  Quente|  2|\n",
            "|11.600304| 29.64275|     -1.861|  27.695002|      36.17158|      139.22937|Moderado|  3|\n",
            "|11.462425|30.157314|   9.776998|  36.077995|     31.351593|        73.5104|  Quente|  4|\n",
            "|11.735474|  29.9684|     -1.662|  27.695002|     36.169456|      139.23021|Moderado|  5|\n",
            "|11.544413| 30.08596|  15.882999|  33.014996|     23.310606|      88.250885|  Alerta|  6|\n",
            "|11.614842|29.549337|  11.020995|   36.58599|      26.52031|       78.81148|  Alerta|  7|\n",
            "|11.699689|29.373444|  23.332996|  28.202002|      0.800029|      110.08771|  Alerta|  8|\n",
            "+---------+---------+-----------+-----------+--------------+---------------+--------+---+\n",
            "only showing top 8 rows\n",
            "\n"
          ]
        }
      ]
    },
    {
      "cell_type": "code",
      "source": [
        "from pyspark.ml.feature import StringIndexer, VectorAssembler  # Importa as classes StringIndexer e VectorAssembler do módulo de recursos do PySpark.\n",
        "\n",
        "#colunas que a maquina vai estudar\n",
        "features = ['hora', 'minuto', 'temp_minima', 'temp_maxima', 'latitude_media', 'longitude_media']\n",
        "\n",
        "#usei o stringindexer pra transformar dados de string em numeros pra ficar mais facil para os algoritmos de aprendizagem de maquina\n",
        "dfTreino = StringIndexer(inputCol='Classe', outputCol='label').fit(dfTreino).transform(dfTreino)\n",
        "\n",
        "# nesse caso especifico não mesclei colunas, mas por convenção usei o vectorAssembler pra ficar mais facil a leitura\n",
        "dfTreino = VectorAssembler(inputCols=features, outputCol='features')\\\n",
        "    .transform(dfTreino)\n",
        "\n",
        "#exibe as 50 linhas iniciais\n",
        "dfTreino.show(50)\n",
        "\n",
        "#nao executar essa célula novamente, pois toda vez que rodar vai tentar criar as colunas novamente"
      ],
      "metadata": {
        "colab": {
          "base_uri": "https://localhost:8080/"
        },
        "id": "W7LomJgHoVH-",
        "outputId": "eed98898-6aae-44b2-c890-698760f7e599"
      },
      "execution_count": 7,
      "outputs": [
        {
          "output_type": "stream",
          "name": "stdout",
          "text": [
            "+---------+---------+-----------+-----------+--------------+---------------+--------+---+-----+--------------------+\n",
            "|     hora|   minuto|temp_minima|temp_maxima|latitude_media|longitude_media|  Classe| id|label|            features|\n",
            "+---------+---------+-----------+-----------+--------------+---------------+--------+---+-----+--------------------+\n",
            "|11.312758|30.169239|     -1.859|     27.495|     36.169994|      139.23022|Moderado|  1|  0.0|[11.312758,30.169...|\n",
            "|11.292323|29.638779|   8.542997|  36.177994|     31.349113|       73.50964|  Quente|  2|  3.0|[11.292323,29.638...|\n",
            "|11.600304| 29.64275|     -1.861|  27.695002|      36.17158|      139.22937|Moderado|  3|  0.0|[11.600304,29.642...|\n",
            "|11.462425|30.157314|   9.776998|  36.077995|     31.351593|        73.5104|  Quente|  4|  3.0|[11.462425,30.157...|\n",
            "|11.735474|  29.9684|     -1.662|  27.695002|     36.169456|      139.23021|Moderado|  5|  0.0|[11.735474,29.968...|\n",
            "|11.544413| 30.08596|  15.882999|  33.014996|     23.310606|      88.250885|  Alerta|  6|  1.0|[11.544413,30.085...|\n",
            "|11.614842|29.549337|  11.020995|   36.58599|      26.52031|       78.81148|  Alerta|  7|  1.0|[11.614842,29.549...|\n",
            "|11.699689|29.373444|  23.332996|  28.202002|      0.800029|      110.08771|  Alerta|  8|  1.0|[11.699689,29.373...|\n",
            "|11.410297|29.433226|  14.652998|   32.86499|     23.310335|       88.25047|  Alerta|  9|  1.0|[11.410297,29.433...|\n",
            "|11.510154|29.350601|     12.421|   36.64899|     26.520853|       78.81027|  Alerta| 10|  1.0|[11.510154,29.350...|\n",
            "|11.456978|29.575026|  23.280996|  28.470003|      0.799633|      110.09058|  Alerta| 11|  1.0|[11.456978,29.575...|\n",
            "|     11.6|29.581108|     15.053|  33.014996|     23.310638|       88.24994|  Alerta| 12|  1.0|[11.6,29.581108,1...|\n",
            "|11.525414|29.194475|  23.280996|  28.087004|      0.800086|      110.09005|  Alerta| 13|  1.0|[11.525414,29.194...|\n",
            "|11.518135|29.809088|  14.852999|   33.06899|     23.311659|      88.249794|  Alerta| 14|  1.0|[11.518135,29.809...|\n",
            "|11.689906| 29.51925|  23.183998|  28.670004|      0.801117|     110.090965|  Alerta| 15|  1.0|[11.689906,29.519...|\n",
            "| 11.60954|29.868721|  14.752998|  32.914997|     23.311543|       88.25039|  Alerta| 16|  1.0|[11.60954,29.8687...|\n",
            "|11.334705|29.852203|     11.766|     36.926|     26.520359|       78.81075|  Quente| 17|  3.0|[11.334705,29.852...|\n",
            "| 11.38802|29.157291|  23.283998|  28.187004|      0.799416|      110.09069|  Alerta| 18|  1.0|[11.38802,29.1572...|\n",
            "|11.822478|29.105242|  14.552998|   32.96899|     23.310154|       88.25221|  Alerta| 19|  1.0|[11.822478,29.105...|\n",
            "|11.575214|29.947819|     11.766|  36.626003|     26.518559|       78.81077|  Alerta| 20|  1.0|[11.575214,29.947...|\n",
            "|11.437274|30.102736|  23.383999|  28.570004|      0.800897|      110.08978|  Alerta| 21|  1.0|[11.437274,30.102...|\n",
            "|11.420261|29.645824|  15.682999|  33.214993|     23.309923|       88.25021|  Alerta| 22|  1.0|[11.420261,29.645...|\n",
            "| 11.30294|29.270557|  11.966001|  37.025997|     26.520111|      78.809875|  Alerta| 23|  1.0|[11.30294,29.2705...|\n",
            "| 11.33513|28.976831|  23.332996|  28.576004|      0.799804|      110.08905|  Alerta| 24|  1.0|[11.33513,28.9768...|\n",
            "|11.616729|29.684145|  15.353001|  33.214993|     23.309633|       88.25017|  Alerta| 25|  1.0|[11.616729,29.684...|\n",
            "|11.470469|28.790857|  10.420993|  36.785988|     26.520609|      78.811424|  Alerta| 26|  1.0|[11.470469,28.790...|\n",
            "|11.670362|30.515121|  23.565998|  28.525003|      0.799883|     110.089264|  Alerta| 27|  1.0|[11.670362,30.515...|\n",
            "| 11.44781|29.940647|  10.520993|  36.735992|     26.518814|       78.81155|  Alerta| 28|  1.0|[11.44781,29.9406...|\n",
            "|11.467295|29.153847|  23.265997|  28.425003|      0.800595|      110.08979|  Alerta| 29|  1.0|[11.467295,29.153...|\n",
            "| 11.52963| 28.94362|     12.321|  37.125996|     26.521158|       78.81041|  Alerta| 30|  1.0|[11.52963,28.9436...|\n",
            "|11.785714| 28.63001|  23.432997|  28.425003|      0.800189|       110.0894|  Alerta| 31|  1.0|[11.785714,28.630...|\n",
            "|11.375363| 29.35504|  11.665999|     36.572|     26.521053|       78.80948|  Alerta| 32|  1.0|[11.375363,29.355...|\n",
            "|11.706431|29.256742|  23.183998|  28.325003|      0.800564|     110.088615|  Alerta| 33|  1.0|[11.706431,29.256...|\n",
            "|11.482503|28.753809|  11.365998|  37.025997|     26.518564|       78.80963|  Alerta| 34|  1.0|[11.482503,28.753...|\n",
            "|11.230154| 30.03463|  23.410995|  28.676004|      0.801144|      110.09055|  Alerta| 35|  1.0|[11.230154,30.034...|\n",
            "|11.178077|29.268541|     16.171|   33.31499|     23.310581|       88.24949|  Alerta| 36|  1.0|[11.178077,29.268...|\n",
            "|11.443233|29.237171|     11.867|     36.826|      26.51993|      78.810585|  Alerta| 37|  1.0|[11.443233,29.237...|\n",
            "|11.746874| 29.52176|  23.380997|  28.876005|      0.801059|      110.08968|  Alerta| 38|  1.0|[11.746874,29.521...|\n",
            "|11.405361|29.547928|  12.557998|  36.526005|     26.519678|      78.810875|  Alerta| 39|  1.0|[11.405361,29.547...|\n",
            "|11.362596| 29.16685|  23.454996|  28.425003|      0.800357|     110.089905|  Alerta| 40|  1.0|[11.362596,29.166...|\n",
            "| 11.58217|29.433033|  15.770998|   33.31499|     23.311035|       88.25059|  Alerta| 41|  1.0|[11.58217,29.4330...|\n",
            "|11.570492|29.695492|  12.267001|     36.926|     26.519764|      78.810844|  Alerta| 42|  1.0|[11.570492,29.695...|\n",
            "| 11.66242|29.411358|  23.183998|  28.670004|      0.800551|      110.09093|  Alerta| 43|  1.0|[11.66242,29.4113...|\n",
            "|11.720747|29.347303|     16.071|  33.214993|     23.310316|       88.25088|  Alerta| 44|  1.0|[11.720747,29.347...|\n",
            "|11.584191|28.999588|  12.167001|  37.025997|       26.5203|      78.809364|  Alerta| 45|  1.0|[11.584191,28.999...|\n",
            "|11.292732|29.308271|  23.505997|  28.079004|      0.799834|      110.09009|  Alerta| 46|  1.0|[11.292732,29.308...|\n",
            "| 11.40911|29.387577|  12.067997|   36.73399|     26.518679|      78.810905|  Alerta| 47|  1.0|[11.40911,29.3875...|\n",
            "|11.325503|29.806208|  10.920995|   36.83599|     26.519842|       78.80969|  Alerta| 48|  1.0|[11.325503,29.806...|\n",
            "| 11.58748| 30.21393|  11.665999|  36.885986|     26.520653|       78.81157|  Quente| 49|  3.0|[11.58748,30.2139...|\n",
            "|11.374579|29.208334|     12.421|  36.816986|     26.518677|       78.80942|  Alerta| 50|  1.0|[11.374579,29.208...|\n",
            "+---------+---------+-----------+-----------+--------------+---------------+--------+---+-----+--------------------+\n",
            "only showing top 50 rows\n",
            "\n"
          ]
        }
      ]
    },
    {
      "cell_type": "code",
      "source": [
        "dfTreino.show(5)"
      ],
      "metadata": {
        "colab": {
          "base_uri": "https://localhost:8080/"
        },
        "id": "J_63y8Lztrw7",
        "outputId": "f0e09fed-7be2-4a82-d1d9-9c0c06b1e5da"
      },
      "execution_count": 8,
      "outputs": [
        {
          "output_type": "stream",
          "name": "stdout",
          "text": [
            "+---------+---------+-----------+-----------+--------------+---------------+--------+---+-----+--------------------+\n",
            "|     hora|   minuto|temp_minima|temp_maxima|latitude_media|longitude_media|  Classe| id|label|            features|\n",
            "+---------+---------+-----------+-----------+--------------+---------------+--------+---+-----+--------------------+\n",
            "|11.312758|30.169239|     -1.859|     27.495|     36.169994|      139.23022|Moderado|  1|  0.0|[11.312758,30.169...|\n",
            "|11.292323|29.638779|   8.542997|  36.177994|     31.349113|       73.50964|  Quente|  2|  3.0|[11.292323,29.638...|\n",
            "|11.600304| 29.64275|     -1.861|  27.695002|      36.17158|      139.22937|Moderado|  3|  0.0|[11.600304,29.642...|\n",
            "|11.462425|30.157314|   9.776998|  36.077995|     31.351593|        73.5104|  Quente|  4|  3.0|[11.462425,30.157...|\n",
            "|11.735474|  29.9684|     -1.662|  27.695002|     36.169456|      139.23021|Moderado|  5|  0.0|[11.735474,29.968...|\n",
            "+---------+---------+-----------+-----------+--------------+---------------+--------+---+-----+--------------------+\n",
            "only showing top 5 rows\n",
            "\n"
          ]
        }
      ]
    },
    {
      "cell_type": "code",
      "source": [
        "#se executar por engano as celuas acima :D\n",
        "#dfTreino = dfTreino.drop('label')\n",
        "#dfTreino = dfTreino.drop('features2')\n"
      ],
      "metadata": {
        "id": "JzNdiD_rr1TM"
      },
      "execution_count": null,
      "outputs": []
    },
    {
      "cell_type": "code",
      "source": [
        "# agora modelei o df de teste\n",
        "\n",
        "from pyspark.ml.feature import StringIndexer, VectorAssembler\n",
        "\n",
        "features = ['hora', 'minuto', 'temp_minima', 'temp_maxima', 'latitude_media', 'longitude_media']\n",
        "\n",
        "dfTeste = StringIndexer(inputCol='Classe', outputCol='label')\\\n",
        "    .fit(dfTeste)\\\n",
        "    .transform(dfTeste)\n",
        "\n",
        "dfTeste = VectorAssembler(inputCols=features, outputCol='features')\\\n",
        "    .transform(dfTeste)"
      ],
      "metadata": {
        "id": "gViDI8tDuLqy"
      },
      "execution_count": 9,
      "outputs": []
    },
    {
      "cell_type": "code",
      "source": [
        "dfTeste.show(5)\n",
        "\n",
        "dfTreino.show(5)\n"
      ],
      "metadata": {
        "colab": {
          "base_uri": "https://localhost:8080/"
        },
        "id": "4wBLl2rAwVTx",
        "outputId": "c469533e-d619-4959-f6a0-eab60bf881f4"
      },
      "execution_count": 10,
      "outputs": [
        {
          "output_type": "stream",
          "name": "stdout",
          "text": [
            "+---------+---------+-----------+-----------+--------------+---------------+--------+---+-----+--------------------+\n",
            "|     hora|   minuto|temp_minima|temp_maxima|latitude_media|longitude_media|  Classe| id|label|            features|\n",
            "+---------+---------+-----------+-----------+--------------+---------------+--------+---+-----+--------------------+\n",
            "|11.787212|29.005116|      1.123|     28.606|      34.56035|      136.21983|Moderado|  1|  0.0|[11.787212,29.005...|\n",
            "|11.482636| 29.84576|      1.038|  29.306004|      34.56078|      136.22015|Moderado|  2|  0.0|[11.482636,29.845...|\n",
            "|11.312064|29.751745|      1.123|  29.006002|      34.55864|      136.22047|Moderado|  3|  0.0|[11.312064,29.751...|\n",
            "|11.530982|29.505793|      1.404|  29.081003|     34.560654|      136.22006|Moderado|  4|  0.0|[11.530982,29.505...|\n",
            "|  11.4008|29.422289|      1.504|  29.181004|     34.559814|      136.22006|Moderado|  5|  0.0|[11.4008,29.42228...|\n",
            "+---------+---------+-----------+-----------+--------------+---------------+--------+---+-----+--------------------+\n",
            "only showing top 5 rows\n",
            "\n",
            "+---------+---------+-----------+-----------+--------------+---------------+--------+---+-----+--------------------+\n",
            "|     hora|   minuto|temp_minima|temp_maxima|latitude_media|longitude_media|  Classe| id|label|            features|\n",
            "+---------+---------+-----------+-----------+--------------+---------------+--------+---+-----+--------------------+\n",
            "|11.312758|30.169239|     -1.859|     27.495|     36.169994|      139.23022|Moderado|  1|  0.0|[11.312758,30.169...|\n",
            "|11.292323|29.638779|   8.542997|  36.177994|     31.349113|       73.50964|  Quente|  2|  3.0|[11.292323,29.638...|\n",
            "|11.600304| 29.64275|     -1.861|  27.695002|      36.17158|      139.22937|Moderado|  3|  0.0|[11.600304,29.642...|\n",
            "|11.462425|30.157314|   9.776998|  36.077995|     31.351593|        73.5104|  Quente|  4|  3.0|[11.462425,30.157...|\n",
            "|11.735474|  29.9684|     -1.662|  27.695002|     36.169456|      139.23021|Moderado|  5|  0.0|[11.735474,29.968...|\n",
            "+---------+---------+-----------+-----------+--------------+---------------+--------+---+-----+--------------------+\n",
            "only showing top 5 rows\n",
            "\n"
          ]
        }
      ]
    },
    {
      "cell_type": "code",
      "source": [
        "#calculando a acuracia de classificação na base de testes para o indicador de arvore de decisao\n",
        "\n",
        "\n",
        "from pyspark.ml.classification import DecisionTreeClassifier\n",
        "import pyspark.sql.functions as func\n",
        "#usando as lib acima vamos criar uma instancia na arvore de decisao\n",
        "dt = DecisionTreeClassifier(labelCol='label', featuresCol='features')\n",
        "#treina o modelo\n",
        "modeloDT = dt.fit(dfTreino)"
      ],
      "metadata": {
        "id": "vi8m2aO4ySiR"
      },
      "execution_count": 12,
      "outputs": []
    },
    {
      "cell_type": "code",
      "source": [
        "#faz as previsões do modelo de teste\n",
        "predicaoDT = modeloDT.transform(dfTeste)\n",
        "predicaoDT.select(func.col('prediction'), func.col('label'), func.col('id')).show(5)"
      ],
      "metadata": {
        "colab": {
          "base_uri": "https://localhost:8080/"
        },
        "id": "JHvJ2NouyUdx",
        "outputId": "383fe809-85a6-4106-bbbf-0aeaf579aaeb"
      },
      "execution_count": 13,
      "outputs": [
        {
          "output_type": "stream",
          "name": "stdout",
          "text": [
            "+----------+-----+---+\n",
            "|prediction|label| id|\n",
            "+----------+-----+---+\n",
            "|       0.0|  0.0|  1|\n",
            "|       0.0|  0.0|  2|\n",
            "|       0.0|  0.0|  3|\n",
            "|       0.0|  0.0|  4|\n",
            "|       0.0|  0.0|  5|\n",
            "+----------+-----+---+\n",
            "only showing top 5 rows\n",
            "\n"
          ]
        }
      ]
    },
    {
      "cell_type": "code",
      "source": [
        "from pyspark.ml.evaluation import MulticlassClassificationEvaluator\n",
        "#confere e valida as colunas do modelo de treino e da precição\n",
        "MulticlassClassificationEvaluator(labelCol='label', predictionCol='prediction')\\\n",
        "    .evaluate(predicaoDT)\n",
        "\n",
        "#seguindo a formula da acuracia"
      ],
      "metadata": {
        "colab": {
          "base_uri": "https://localhost:8080/"
        },
        "id": "rU4LFvvVyktH",
        "outputId": "a94e3ef8-3ac1-4427-b85b-84f46220f005"
      },
      "execution_count": 16,
      "outputs": [
        {
          "output_type": "execute_result",
          "data": {
            "text/plain": [
              "0.938528131874999"
            ]
          },
          "metadata": {},
          "execution_count": 16
        }
      ]
    },
    {
      "cell_type": "code",
      "source": [],
      "metadata": {
        "id": "0OKvd5OA0gK4"
      },
      "execution_count": null,
      "outputs": []
    },
    {
      "cell_type": "markdown",
      "source": [
        "Extraindo dados do DB com aprendizagem de maquina\n",
        "\n"
      ],
      "metadata": {
        "id": "MMXSn7Ma17Zp"
      }
    },
    {
      "cell_type": "code",
      "source": [
        "#proporção de falso negativo previstos pelo modelo\n",
        "predicaoDT.select('label', 'prediction')\\\n",
        ".where(predicaoDT.label == 3.0)\\\n",
        ".where(predicaoDT.prediction != 3.0)\\\n",
        ".count() / predicaoDT.where(predicaoDT.label == 3.0).count()\n"
      ],
      "metadata": {
        "colab": {
          "base_uri": "https://localhost:8080/"
        },
        "id": "pKpHw1202DIq",
        "outputId": "a96767ac-2791-4aa6-e16a-6b3ccbeb4901"
      },
      "execution_count": 21,
      "outputs": [
        {
          "output_type": "execute_result",
          "data": {
            "text/plain": [
              "0.14949778089231489"
            ]
          },
          "metadata": {},
          "execution_count": 21
        }
      ]
    },
    {
      "cell_type": "code",
      "source": [
        "#numero absoluto de falsos negativos\n",
        "falsos_negativos = predicaoDT.filter((func.col('label') == 3.0) & (func.col('prediction') != 3.0))\n",
        "quantidade_falsos_negativos = falsos_negativos.count()\n",
        "\n",
        "print(f'Quantidade \"Alertas\" classificados erroneamente como outra classe (falsos negativos): {quantidade_falsos_negativos}')"
      ],
      "metadata": {
        "colab": {
          "base_uri": "https://localhost:8080/"
        },
        "id": "3T20XPST3Gob",
        "outputId": "3f1169a4-0a00-4a66-bcf0-33f397da4fc5"
      },
      "execution_count": 20,
      "outputs": [
        {
          "output_type": "stream",
          "name": "stdout",
          "text": [
            "Quantidade \"Alertas\" classificados erroneamente como outra classe (falsos negativos): 11520\n"
          ]
        }
      ]
    },
    {
      "cell_type": "code",
      "source": [
        "from pyspark.ml.classification import RandomForestClassifier\n",
        "import pyspark.sql.functions as func\n",
        "\n",
        "#cria a isntancia da rf com 5 arvores\n",
        "rf = RandomForestClassifier(labelCol='label', featuresCol='features', numTrees=5)\n",
        "\n",
        "#treina o modelo\n",
        "modeloRF = rf.fit(dfTreino)\n",
        "\n",
        "predicaoRF = modeloRF.transform(dfTeste)\n",
        "\n",
        "predicaoRF.select(func.col('prediction'), func.col('label'), func.col('id')).show(5)\n",
        "\n",
        "#proporção de falso negativos\n",
        "proporcao_falsos_negativos = predicaoRF.select('label', 'prediction')\\\n",
        "    .where(predicaoRF.label == 3.0)\\\n",
        "    .where(predicaoRF.prediction != 3.0)\\\n",
        "    .count() / predicaoRF.where(predicaoRF.label == 3.0).count()\n",
        "\n",
        "print(f'Proporção de falsos negativos: {proporcao_falsos_negativos}')\n",
        "\n",
        "#numero total\n",
        "falsos_negativos_rf = predicaoRF.filter((func.col('label') == 3.0) & (func.col('prediction') != 3.0))\n",
        "quantidade_falsos_negativos_rf = falsos_negativos_rf.count()\n",
        "\n",
        "print(f'Quantidade \"Alertas\" classificados erroneamente como outra classe (falsos negativos): {quantidade_falsos_negativos_rf}')"
      ],
      "metadata": {
        "colab": {
          "base_uri": "https://localhost:8080/"
        },
        "id": "XeLd3XWY2Q_E",
        "outputId": "2db11bcd-1e9c-4f60-db7d-31ef465f36d6"
      },
      "execution_count": 27,
      "outputs": [
        {
          "output_type": "stream",
          "name": "stdout",
          "text": [
            "+----------+-----+---+\n",
            "|prediction|label| id|\n",
            "+----------+-----+---+\n",
            "|       0.0|  0.0|  1|\n",
            "|       0.0|  0.0|  2|\n",
            "|       0.0|  0.0|  3|\n",
            "|       0.0|  0.0|  4|\n",
            "|       0.0|  0.0|  5|\n",
            "+----------+-----+---+\n",
            "only showing top 5 rows\n",
            "\n",
            "Proporção de falsos negativos: 0.26676010277972434\n",
            "Quantidade \"Alertas\" classificados erroneamente como outra classe (falsos negativos): 20556\n"
          ]
        }
      ]
    },
    {
      "cell_type": "code",
      "source": [
        "from pyspark.ml.classification import RandomForestClassifier\n",
        "import pyspark.sql.functions as func\n",
        "\n",
        "rf = RandomForestClassifier(labelCol='label', featuresCol='features', numTrees=100)\n",
        "\n",
        "# treina o modelo\n",
        "modeloRF = rf.fit(dfTreino)\n",
        "\n",
        "predicaoRF = modeloRF.transform(dfTeste)\n",
        "\n",
        "predicaoRF.select(func.col('prediction'), func.col('label'), func.col('id')).show(5)\n",
        "\n",
        "# proporção de falso negativo\n",
        "proporcao_falsos_negativos = predicaoRF.select('label', 'prediction')\\\n",
        "    .where(predicaoRF.label == 3.0)\\\n",
        "    .where(predicaoRF.prediction != 3.0)\\\n",
        "    .count() / predicaoRF.where(predicaoRF.label == 3.0).count()\n",
        "\n",
        "print(f'Proporção de falsos negativos: {proporcao_falsos_negativos}')\n",
        "\n",
        "# numero total\n",
        "falsos_negativos_rf = predicaoRF.filter((func.col('label') == 3.0) & (func.col('prediction') != 3.0))\n",
        "quantidade_falsos_negativos_rf = falsos_negativos_rf.count()\n",
        "\n",
        "print(f' \"Alertas\" classificados erroneamente como outra classe (falsos negativos): {quantidade_falsos_negativos_rf}')\n"
      ],
      "metadata": {
        "colab": {
          "base_uri": "https://localhost:8080/"
        },
        "id": "jvouVVBN2kb3",
        "outputId": "6874157a-a100-435a-ae2d-4541553eafb1"
      },
      "execution_count": 28,
      "outputs": [
        {
          "output_type": "stream",
          "name": "stdout",
          "text": [
            "+----------+-----+---+\n",
            "|prediction|label| id|\n",
            "+----------+-----+---+\n",
            "|       0.0|  0.0|  1|\n",
            "|       0.0|  0.0|  2|\n",
            "|       0.0|  0.0|  3|\n",
            "|       0.0|  0.0|  4|\n",
            "|       0.0|  0.0|  5|\n",
            "+----------+-----+---+\n",
            "only showing top 5 rows\n",
            "\n",
            "Proporção de falsos negativos: 0.19761737911702873\n",
            " \"Alertas\" classificados erroneamente como outra classe (falsos negativos): 15228\n"
          ]
        }
      ]
    }
  ]
}